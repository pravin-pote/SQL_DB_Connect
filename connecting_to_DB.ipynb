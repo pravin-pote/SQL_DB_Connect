{
 "cells": [
  {
   "cell_type": "code",
   "execution_count": 14,
   "id": "7ffd1a07-3915-47f1-adfe-0d71fc8405db",
   "metadata": {},
   "outputs": [
    {
     "name": "stdout",
     "output_type": "stream",
     "text": [
      "Requirement already satisfied: mysql-connector-python in c:\\users\\pravi\\anaconda3\\lib\\site-packages (9.4.0)\n",
      "Note: you may need to restart the kernel to use updated packages.\n"
     ]
    }
   ],
   "source": [
    "pip install mysql-connector-python"
   ]
  },
  {
   "cell_type": "code",
   "execution_count": 15,
   "id": "df36f5e7-f282-48cd-8018-61e279f085c1",
   "metadata": {},
   "outputs": [],
   "source": [
    "import mysql.connector"
   ]
  },
  {
   "cell_type": "code",
   "execution_count": 16,
   "id": "3b6e9050-b6d3-493d-8776-5822e5034e1a",
   "metadata": {},
   "outputs": [],
   "source": [
    "mydb = mysql.connector.connect(host = \"localhost\", user = \"root\", password = \"Root@123\")"
   ]
  },
  {
   "cell_type": "code",
   "execution_count": 17,
   "id": "74f24407-2f99-4aa3-88e7-e9397bf95f6d",
   "metadata": {},
   "outputs": [],
   "source": [
    "mycur = mydb.cursor()"
   ]
  },
  {
   "cell_type": "code",
   "execution_count": 19,
   "id": "e31319ba-a1d6-40f1-8a05-86add066b6f5",
   "metadata": {},
   "outputs": [
    {
     "name": "stdout",
     "output_type": "stream",
     "text": [
      "information_schema\n",
      "knowitdb\n",
      "mysql\n",
      "olatech\n",
      "performance_schema\n",
      "sys\n",
      "timepass\n",
      "triggers\n",
      "windows\n"
     ]
    }
   ],
   "source": [
    "mycur.execute(\"SHOW DATABASES\")\n",
    "databases = mycur.fetchall()\n",
    "\n",
    "for db in databases:\n",
    "    print(db[0])\n",
    "#mycur.close()\n",
    "mycur.close()\n",
    "mydb.close()"
   ]
  },
  {
   "cell_type": "markdown",
   "id": "c442a18e-f4a5-4392-a3eb-23a9e4ffb973",
   "metadata": {},
   "source": [
    "# new conncetiona and new everything \n"
   ]
  },
  {
   "cell_type": "code",
   "execution_count": 13,
   "id": "cd64d8f9-b1ef-4a6e-8d28-616e7422b365",
   "metadata": {},
   "outputs": [],
   "source": [
    "import mysql.connector"
   ]
  },
  {
   "cell_type": "code",
   "execution_count": 14,
   "id": "2d18362d-fc8b-443a-a78e-903dfda27d44",
   "metadata": {},
   "outputs": [],
   "source": [
    "mydb = mysql.connector.connect(host = 'localhost',user = 'root',password = 'Root@123')"
   ]
  },
  {
   "cell_type": "code",
   "execution_count": 15,
   "id": "8953ceda-319c-4af7-bc7e-ebfd304ee232",
   "metadata": {},
   "outputs": [],
   "source": [
    "mycursor = mydb.cursor()"
   ]
  },
  {
   "cell_type": "code",
   "execution_count": 16,
   "id": "b07c01fa-c107-4cf1-a536-2a84584fa2e9",
   "metadata": {},
   "outputs": [
    {
     "name": "stdout",
     "output_type": "stream",
     "text": [
      "information_schema\n",
      "knowitdb\n",
      "mysql\n",
      "olatech\n",
      "performance_schema\n",
      "sys\n",
      "timepass\n",
      "triggers\n",
      "windows\n"
     ]
    }
   ],
   "source": [
    "mycursor.execute(\"SHOW DATABASES\")\n",
    "databases = mycursor.fetchall()\n",
    "\n",
    "for db in databases:\n",
    "    print(db[0])"
   ]
  },
  {
   "cell_type": "markdown",
   "id": "a0a84c07-95e4-4799-b6a6-23423a97410a",
   "metadata": {},
   "source": [
    "# 1 create table student"
   ]
  },
  {
   "cell_type": "code",
   "execution_count": 17,
   "id": "9b5bc821-9daa-4df0-bcd1-26d77c58e472",
   "metadata": {},
   "outputs": [],
   "source": [
    "mycursor.execute(\"USE knowitdb\")\n",
    "mycursor.execute(\"\"\"CREATE TABLE IF NOT EXISTS student(\n",
    "    ID INT  AUTO_INCREMENT PRIMARY KEY,\n",
    "    name varchar(50),\n",
    "    age INT)\n",
    "    \"\"\")"
   ]
  },
  {
   "cell_type": "code",
   "execution_count": 18,
   "id": "4c8febbb-f790-499f-9e1f-3111feaf8418",
   "metadata": {},
   "outputs": [],
   "source": [
    "mycursor.execute(\"\"\"ALTER table student\n",
    "                    drop column age\"\"\")"
   ]
  },
  {
   "cell_type": "markdown",
   "id": "68f78c16-914b-46f1-928a-5a094cd70ca3",
   "metadata": {},
   "source": [
    " * added new column marks and removed the column age.."
   ]
  },
  {
   "cell_type": "code",
   "execution_count": 19,
   "id": "79e70ac7-dece-4444-ba13-1fade49d4b5f",
   "metadata": {},
   "outputs": [],
   "source": [
    "mycursor.execute(\"\"\"ALTER TABLE student \n",
    "                    ADD marks decimal(10,2)\"\"\")"
   ]
  },
  {
   "cell_type": "code",
   "execution_count": 20,
   "id": "c720e1d2-7b19-436b-b02f-a0ff57a787f7",
   "metadata": {},
   "outputs": [
    {
     "name": "stdout",
     "output_type": "stream",
     "text": [
      "('ID', 'int', 'NO', 'PRI', None, 'auto_increment')\n",
      "('name', 'varchar(50)', 'YES', '', None, '')\n",
      "('marks', 'decimal(10,2)', 'YES', '', None, '')\n"
     ]
    }
   ],
   "source": [
    "mycursor.execute(\"\"\"describe student\"\"\")\n",
    "result = mycursor.fetchall()\n",
    "\n",
    "for row in result:\n",
    "    print(row)"
   ]
  },
  {
   "cell_type": "markdown",
   "id": "6d37fa20-95be-4654-86f6-b214821d3824",
   "metadata": {},
   "source": [
    "# 2. insert the following valus in the following column "
   ]
  },
  {
   "cell_type": "code",
   "execution_count": 21,
   "id": "13c61f9a-c6f4-448d-b029-2280edc04447",
   "metadata": {},
   "outputs": [],
   "source": [
    "mycursor.execute(\"\"\"INSERT INTO student(name,marks)\n",
    "                    values('ruturaj',45.67),\n",
    "                    ('rama',67.80),\n",
    "                    ('viduala',87.20),\n",
    "                    ('ritika',81.34),\n",
    "                    ('kartik',35.00)                    \n",
    "                    \"\"\")"
   ]
  },
  {
   "cell_type": "markdown",
   "id": "3060fe84-dc88-4daf-b17c-4c22199047f8",
   "metadata": {},
   "source": [
    " File autosaving in interval of 10 seconds"
   ]
  },
  {
   "cell_type": "code",
   "execution_count": 22,
   "id": "2b428ea5-8b00-4a7c-a17b-8663ec640a04",
   "metadata": {},
   "outputs": [
    {
     "data": {
      "application/javascript": [
       "IPython.notebook.set_autosave_interval(10000)"
      ]
     },
     "metadata": {},
     "output_type": "display_data"
    },
    {
     "name": "stdout",
     "output_type": "stream",
     "text": [
      "Autosaving every 10 seconds\n"
     ]
    }
   ],
   "source": [
    "%autosave 10\n"
   ]
  },
  {
   "cell_type": "code",
   "execution_count": 23,
   "id": "9835af4c-07ba-4e57-9ad1-bd89bd0dcbca",
   "metadata": {},
   "outputs": [],
   "source": [
    "mydb.commit()"
   ]
  },
  {
   "cell_type": "markdown",
   "id": "344ac497-ce92-4ece-a20c-d4885f39e2ff",
   "metadata": {},
   "source": [
    "# 3. modify rams marks to 78"
   ]
  },
  {
   "cell_type": "code",
   "execution_count": 24,
   "id": "edb131e5-e32b-4b64-9015-dde3743dea05",
   "metadata": {},
   "outputs": [],
   "source": [
    "mycursor.execute(\"\"\"UPDATE student\n",
    "                    set marks = 78\n",
    "                    WHERE name = 'rama'\n",
    "                    \"\"\"\")\n"
   ]
  },
  {
   "cell_type": "code",
   "execution_count": 25,
   "id": "22e81482-7b5e-48e7-9fd5-d3daf61b2561",
   "metadata": {},
   "outputs": [],
   "source": [
    "mydb.commit()"
   ]
  },
  {
   "cell_type": "markdown",
   "id": "dfcf34e6-1cdc-483b-aa3d-f1c1cc316d30",
   "metadata": {},
   "source": [
    "# 4. show all the users in notebook"
   ]
  },
  {
   "cell_type": "code",
   "execution_count": 26,
   "id": "e01f7029-88f9-4238-9c85-71dcc3a05f67",
   "metadata": {},
   "outputs": [
    {
     "name": "stdout",
     "output_type": "stream",
     "text": [
      "(1, 'ruturaj', Decimal('45.67'))\n",
      "(2, 'rama', Decimal('78.00'))\n",
      "(3, 'viduala', Decimal('87.20'))\n",
      "(4, 'ritika', Decimal('81.34'))\n",
      "(5, 'kartik', Decimal('35.00'))\n"
     ]
    }
   ],
   "source": [
    "mycursor.execute(\"\"\"SELECT * FROM student\"\"\")\n",
    "result = mycursor.fetchall()\n",
    "\n",
    "for row in result:\n",
    "    print(row)\n"
   ]
  },
  {
   "cell_type": "markdown",
   "id": "a9858988-dbea-4efc-90d9-3c567f0d9ec5",
   "metadata": {},
   "source": [
    "# 5. student with more than 80% marks"
   ]
  },
  {
   "cell_type": "code",
   "execution_count": 31,
   "id": "f83cf363-4233-4ed9-9e1c-ffc15138b703",
   "metadata": {},
   "outputs": [
    {
     "name": "stdout",
     "output_type": "stream",
     "text": [
      "(3, 'viduala', Decimal('87.20'))\n",
      "(4, 'ritika', Decimal('81.34'))\n"
     ]
    }
   ],
   "source": [
    "mycursor.execute(\"\"\"SELECT *\n",
    "                    FROM student\n",
    "                    WHERE marks > 80\"\"\")\n",
    "\n",
    "result = mycursor.fetchall()\n",
    "\n",
    "for row in result:\n",
    "    print(row)"
   ]
  },
  {
   "cell_type": "markdown",
   "id": "cc38ccbd-7747-4dc5-a09d-751dc4e3b48a",
   "metadata": {},
   "source": [
    "# 6. print all the names stariting with the R"
   ]
  },
  {
   "cell_type": "code",
   "execution_count": 33,
   "id": "28a44fb9-a7e2-4487-82f6-549b0f9b83d4",
   "metadata": {},
   "outputs": [
    {
     "name": "stdout",
     "output_type": "stream",
     "text": [
      "('ruturaj',)\n",
      "('rama',)\n",
      "('ritika',)\n"
     ]
    }
   ],
   "source": [
    "mycursor.execute(\"\"\"SELECT name\n",
    "                    FROM student\n",
    "                    WHERE name like 'R%'\n",
    "                    \"\"\")\n",
    "\n",
    "result = mycursor.fetchall()\n",
    "\n",
    "for row in result:\n",
    "    print(row)"
   ]
  },
  {
   "cell_type": "markdown",
   "id": "5f69ad86-6052-4995-ac31-a86b63e3019e",
   "metadata": {},
   "source": [
    " In this assignment i learned to connect the MYSQL Database using python and how to do changes in MYSQL tables from python .."
   ]
  },
  {
   "cell_type": "code",
   "execution_count": null,
   "id": "cdc81124-7b99-47bb-831f-7093c439f18a",
   "metadata": {},
   "outputs": [],
   "source": []
  }
 ],
 "metadata": {
  "kernelspec": {
   "display_name": "Python 3 (ipykernel)",
   "language": "python",
   "name": "python3"
  },
  "language_info": {
   "codemirror_mode": {
    "name": "ipython",
    "version": 3
   },
   "file_extension": ".py",
   "mimetype": "text/x-python",
   "name": "python",
   "nbconvert_exporter": "python",
   "pygments_lexer": "ipython3",
   "version": "3.12.7"
  }
 },
 "nbformat": 4,
 "nbformat_minor": 5
}
